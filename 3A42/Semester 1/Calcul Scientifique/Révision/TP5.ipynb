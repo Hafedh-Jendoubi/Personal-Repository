{
 "cells": [
  {
   "cell_type": "code",
   "execution_count": 1,
   "id": "e95af2c3",
   "metadata": {},
   "outputs": [],
   "source": [
    "import numpy as np\n",
    "import sympy as sp"
   ]
  },
  {
   "cell_type": "code",
   "execution_count": 11,
   "id": "3827a7f8",
   "metadata": {},
   "outputs": [],
   "source": [
    "#3 Application: Evolution d'une population bactérienne\n",
    "\n",
    "#Q1.a)\n",
    "def solver(f, x0, t0, T, N):\n",
    "    h = T/N\n",
    "    X = [x0]\n",
    "    for i in range(N):\n",
    "        p = X[i] + h*f(t0+i*h, X[i])\n",
    "        X.append(X[i] + (h/2)*(f(t0+i*h, X[i]) + f(t0+h*(i+1), X[i])) + f(t0+h*(i+1), p))\n",
    "    return X"
   ]
  },
  {
   "cell_type": "code",
   "execution_count": 14,
   "id": "dd676832",
   "metadata": {},
   "outputs": [
    {
     "name": "stdout",
     "output_type": "stream",
     "text": [
      "985.4905599999997\n"
     ]
    }
   ],
   "source": [
    "#Q1.b)\n",
    "r = 0.2\n",
    "k = 100\n",
    "t0 = 0\n",
    "T = 72\n",
    "N = 180\n",
    "x0 = 40\n",
    "f=lambda x, t: r*x*(1-x/k)\n",
    "X = solver(f, x0, t0, T, N)\n",
    "print(X[-1])"
   ]
  },
  {
   "cell_type": "code",
   "execution_count": 18,
   "id": "ba629ddb",
   "metadata": {},
   "outputs": [
    {
     "name": "stdout",
     "output_type": "stream",
     "text": [
      "885.4906436084852\n"
     ]
    }
   ],
   "source": [
    "#Q1.c)\n",
    "r = 0.2\n",
    "k = 100\n",
    "f=lambda t, x0: (x0*k)/(x0+(k-x0)*np.exp(-r*t))\n",
    "t = 72\n",
    "x0 = 40\n",
    "print(abs(f(t, x0) - X[-1]))"
   ]
  },
  {
   "cell_type": "code",
   "execution_count": null,
   "id": "bdfd22bd",
   "metadata": {},
   "outputs": [],
   "source": []
  }
 ],
 "metadata": {
  "kernelspec": {
   "display_name": "Python 3 (ipykernel)",
   "language": "python",
   "name": "python3"
  },
  "language_info": {
   "codemirror_mode": {
    "name": "ipython",
    "version": 3
   },
   "file_extension": ".py",
   "mimetype": "text/x-python",
   "name": "python",
   "nbconvert_exporter": "python",
   "pygments_lexer": "ipython3",
   "version": "3.11.5"
  }
 },
 "nbformat": 4,
 "nbformat_minor": 5
}
