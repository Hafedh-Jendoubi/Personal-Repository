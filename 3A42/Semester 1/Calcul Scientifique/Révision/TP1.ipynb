{
 "cells": [
  {
   "cell_type": "code",
   "execution_count": 37,
   "id": "8c01abfb",
   "metadata": {},
   "outputs": [],
   "source": [
    "#2 Applications numériques\n",
    "import numpy as np\n",
    "\n",
    "#Question 1, a\n",
    "def tridiag(a1, a2, a3, n):\n",
    "    A = a1*np.eye(n) + a2*np.diagflat(np.ones(n-1), 1) + a3*np.diagflat(np.ones(n-1), -1)\n",
    "    b = 2*np.ones((n, 1))\n",
    "    return A,b"
   ]
  },
  {
   "cell_type": "code",
   "execution_count": 106,
   "id": "623d3c5a",
   "metadata": {},
   "outputs": [
    {
     "data": {
      "text/plain": [
       "(array([[4., 1., 0., 0., 0., 0., 0., 0., 0., 0.],\n",
       "        [1., 4., 1., 0., 0., 0., 0., 0., 0., 0.],\n",
       "        [0., 1., 4., 1., 0., 0., 0., 0., 0., 0.],\n",
       "        [0., 0., 1., 4., 1., 0., 0., 0., 0., 0.],\n",
       "        [0., 0., 0., 1., 4., 1., 0., 0., 0., 0.],\n",
       "        [0., 0., 0., 0., 1., 4., 1., 0., 0., 0.],\n",
       "        [0., 0., 0., 0., 0., 1., 4., 1., 0., 0.],\n",
       "        [0., 0., 0., 0., 0., 0., 1., 4., 1., 0.],\n",
       "        [0., 0., 0., 0., 0., 0., 0., 1., 4., 1.],\n",
       "        [0., 0., 0., 0., 0., 0., 0., 0., 1., 4.]]),\n",
       " array([[2.],\n",
       "        [2.],\n",
       "        [2.],\n",
       "        [2.],\n",
       "        [2.],\n",
       "        [2.],\n",
       "        [2.],\n",
       "        [2.],\n",
       "        [2.],\n",
       "        [2.]]))"
      ]
     },
     "execution_count": 106,
     "metadata": {},
     "output_type": "execute_result"
    }
   ],
   "source": [
    "#b\n",
    "a1,a2,a3,n=4,1,1,10\n",
    "tridiag(a1,a2,a3,n)"
   ]
  },
  {
   "cell_type": "code",
   "execution_count": 74,
   "id": "e22d279f",
   "metadata": {},
   "outputs": [
    {
     "name": "stdout",
     "output_type": "stream",
     "text": [
      "True\n"
     ]
    }
   ],
   "source": [
    "#Question 2, a\n",
    "def matrice_diag_dominante(B):\n",
    "    etat = True\n",
    "    for i in range(np.shape(B)[0]):\n",
    "        if(np.abs(B[i, i]) < np.sum(np.abs(B[i,:])) - np.abs(B[i, i])):\n",
    "            etat = False\n",
    "    return etat\n",
    "\n",
    "B = np.array([[7, 4, -2], [5, 9, 3], [4, -3, -8]])\n",
    "print(matrice_diag_dominante(B))"
   ]
  },
  {
   "cell_type": "code",
   "execution_count": 80,
   "id": "ca20ee7d",
   "metadata": {},
   "outputs": [
    {
     "name": "stdout",
     "output_type": "stream",
     "text": [
      "True\n",
      "False\n"
     ]
    }
   ],
   "source": [
    "#b\n",
    "B1 = tridiag(4, 1, 1, 10)[0]\n",
    "B2 = tridiag(1, 1, 1, 10)[0]\n",
    "print(matrice_diag_dominante(B1))\n",
    "print(matrice_diag_dominante(B2))"
   ]
  },
  {
   "cell_type": "code",
   "execution_count": 95,
   "id": "05aaabc0",
   "metadata": {},
   "outputs": [],
   "source": [
    "#Question 3, a\n",
    "def jacobi(B, b1, X0, epsilon):\n",
    "    if(matrice_diag_dominante(B) == False):\n",
    "        return \"B n'est pas diagonale strictement dominante\"\n",
    "    else:\n",
    "        M = np.diagflat(np.diag(B))\n",
    "        N = B - M\n",
    "        inv_M = np.linalg.inv(M)\n",
    "        D = inv_M.dot(N)\n",
    "        C = inv_M.dot(b1)\n",
    "        iterations = 0\n",
    "        while(np.linalg.norm(B.dot(X0) - b1, 1) <= epsilon):\n",
    "            iterations += 1\n",
    "            X1 = D.dot(X0) + C\n",
    "            X0 = X1\n",
    "        return iterations, X0"
   ]
  },
  {
   "cell_type": "code",
   "execution_count": 107,
   "id": "61d6a0b6",
   "metadata": {},
   "outputs": [
    {
     "data": {
      "text/plain": [
       "(0,\n",
       " array([[1.],\n",
       "        [1.],\n",
       "        [1.],\n",
       "        [1.],\n",
       "        [1.],\n",
       "        [1.],\n",
       "        [1.],\n",
       "        [1.],\n",
       "        [1.],\n",
       "        [1.]]))"
      ]
     },
     "execution_count": 107,
     "metadata": {},
     "output_type": "execute_result"
    }
   ],
   "source": [
    "#b\n",
    "n=10\n",
    "X0=np.ones((n,1))\n",
    "epsilon=10**-6\n",
    "b1=tridiag(a1,a2,a3,n)[1]\n",
    "B=tridiag(a1,a2,a3,n)[0]\n",
    "jacobi(B, b1, X0, epsilon)"
   ]
  },
  {
   "cell_type": "code",
   "execution_count": null,
   "id": "2e09e424",
   "metadata": {},
   "outputs": [],
   "source": []
  }
 ],
 "metadata": {
  "kernelspec": {
   "display_name": "Python 3 (ipykernel)",
   "language": "python",
   "name": "python3"
  },
  "language_info": {
   "codemirror_mode": {
    "name": "ipython",
    "version": 3
   },
   "file_extension": ".py",
   "mimetype": "text/x-python",
   "name": "python",
   "nbconvert_exporter": "python",
   "pygments_lexer": "ipython3",
   "version": "3.11.5"
  }
 },
 "nbformat": 4,
 "nbformat_minor": 5
}
