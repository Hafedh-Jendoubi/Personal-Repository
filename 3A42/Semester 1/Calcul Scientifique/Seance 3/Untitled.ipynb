{
 "cells": [
  {
   "cell_type": "code",
   "execution_count": 7,
   "id": "4a0670af",
   "metadata": {},
   "outputs": [
    {
     "name": "stdout",
     "output_type": "stream",
     "text": [
      "[[4. 1. 0. 0. 0. 0. 0. 0. 0. 0.]\n",
      " [1. 4. 1. 0. 0. 0. 0. 0. 0. 0.]\n",
      " [0. 1. 4. 1. 0. 0. 0. 0. 0. 0.]\n",
      " [0. 0. 1. 4. 1. 0. 0. 0. 0. 0.]\n",
      " [0. 0. 0. 1. 4. 1. 0. 0. 0. 0.]\n",
      " [0. 0. 0. 0. 1. 4. 1. 0. 0. 0.]\n",
      " [0. 0. 0. 0. 0. 1. 4. 1. 0. 0.]\n",
      " [0. 0. 0. 0. 0. 0. 1. 4. 1. 0.]\n",
      " [0. 0. 0. 0. 0. 0. 0. 1. 4. 1.]\n",
      " [0. 0. 0. 0. 0. 0. 0. 0. 1. 4.]]\n",
      "[[2.]\n",
      " [2.]\n",
      " [2.]\n",
      " [2.]\n",
      " [2.]\n",
      " [2.]\n",
      " [2.]\n",
      " [2.]\n",
      " [2.]\n",
      " [2.]]\n"
     ]
    }
   ],
   "source": [
    "import numpy as np #Pour les manipulations numériques\n",
    "import matplotlib.pyplot as plt\n",
    "\n",
    "#2 - Applications Numériques\n",
    "\n",
    "#Question 1, a:\n",
    "def tridiag(a1, a2, a3, n):\n",
    "    A = a1 * np.eye(n) + a2 * np.diagflat(np.ones(n-1), 1) + a3 * np.diagflat(np.ones(n-1), -1) #diagflat +1 or -1, tatla3 feka el star eli fou9 el diagonal, 9bi7a barcha\n",
    "    b = np.ones((n,1))*2\n",
    "    \n",
    "    return (A, b)\n",
    "\n",
    "#Question 1, b:\n",
    "a1, a2, a3, n = 4, 1, 1, 10\n",
    "(A, b) = tridiag(a1, a2, a3, n)\n",
    "print(A)\n",
    "print(b)"
   ]
  },
  {
   "cell_type": "code",
   "execution_count": null,
   "id": "963594da",
   "metadata": {},
   "outputs": [],
   "source": []
  }
 ],
 "metadata": {
  "kernelspec": {
   "display_name": "Python 3 (ipykernel)",
   "language": "python",
   "name": "python3"
  },
  "language_info": {
   "codemirror_mode": {
    "name": "ipython",
    "version": 3
   },
   "file_extension": ".py",
   "mimetype": "text/x-python",
   "name": "python",
   "nbconvert_exporter": "python",
   "pygments_lexer": "ipython3",
   "version": "3.11.5"
  }
 },
 "nbformat": 4,
 "nbformat_minor": 5
}
